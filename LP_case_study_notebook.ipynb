{
 "cells": [
  {
   "cell_type": "code",
   "execution_count": 27,
   "metadata": {},
   "outputs": [],
   "source": [
    "# !pip install pulp"
   ]
  },
  {
   "cell_type": "code",
   "execution_count": 28,
   "metadata": {},
   "outputs": [],
   "source": [
    "import pulp # Library to perfom linear programming\n",
    "from pulp import LpProblem"
   ]
  },
  {
   "cell_type": "code",
   "execution_count": 38,
   "metadata": {},
   "outputs": [],
   "source": [
    "from itertools import combinations"
   ]
  },
  {
   "cell_type": "code",
   "execution_count": 43,
   "metadata": {},
   "outputs": [],
   "source": [
    "times = {\n",
    "    'Swimmer 1': {'Backstroke': 69, 'Breaststroke': 72, 'Butterfly': 63, 'Freestyle': 59},\n",
    "    'Swimmer 2': {'Backstroke': 66, 'Breaststroke': 71, 'Butterfly': 65, 'Freestyle': 58},\n",
    "    'Swimmer 3': {'Backstroke': 68, 'Breaststroke': 70, 'Butterfly': 67, 'Freestyle': 55},\n",
    "    'Swimmer 4': {'Backstroke': 67, 'Breaststroke': 75, 'Butterfly': 70, 'Freestyle': 57},\n",
    "    'Swimmer 5': {'Backstroke': 72, 'Breaststroke': 69, 'Butterfly': 76, 'Freestyle': 58},\n",
    "    'Swimmer 6': {'Backstroke': 68, 'Breaststroke': 73, 'Butterfly': 66, 'Freestyle': 56},\n",
    "}\n",
    "\n",
    "# List of all swimmers\n",
    "all_swimmers = ['Swimmer 1', 'Swimmer 2', 'Swimmer 3', 'Swimmer 4', 'Swimmer 5', 'Swimmer 6']\n",
    "\n",
    "# Strokes\n",
    "strokes = ['Backstroke', 'Breaststroke', 'Butterfly', 'Freestyle']\n",
    "\n",
    "# Initialize best result\n",
    "best_cost = float('inf')\n",
    "best_assignment = None"
   ]
  },
  {
   "cell_type": "code",
   "execution_count": 42,
   "metadata": {},
   "outputs": [
    {
     "name": "stdout",
     "output_type": "stream",
     "text": [
      "status: 1, Optimal\n",
      "Optimal assignment:\n",
      "Swimmer 1 should swim Butterfly\n",
      "Swimmer 2 should swim Backstroke\n",
      "Swimmer 3 should swim Freestyle\n",
      "Swimmer 5 should swim Breaststroke\n",
      "Total minimum time: 253.0 seconds\n"
     ]
    }
   ],
   "source": [
    "# Try all combinations of 4 swimmers from 6\n",
    "for selected_swimmers in combinations(all_swimmers, 4):\n",
    "    # Create a linear programming problem\n",
    "    prob = pulp.LpProblem(f\"Medley_Relay_Optimization_with_{selected_swimmers}\", pulp.LpMinimize)\n",
    "\n",
    "    # Create decision variables for the selected swimmers\n",
    "    assignments = pulp.LpVariable.dicts(\"assign\", (selected_swimmers, strokes), cat='Binary')\n",
    "\n",
    "    # Objective function: Minimize total relay time\n",
    "    prob += pulp.lpSum(assignments[swimmer][stroke] * times[swimmer][stroke]\n",
    "                       for swimmer in selected_swimmers\n",
    "                       for stroke in strokes)\n",
    "\n",
    "    # Constraints: Each stroke should be assigned exactly one swimmer\n",
    "    for stroke in strokes:\n",
    "        prob += pulp.lpSum(assignments[swimmer][stroke] for swimmer in selected_swimmers) == 1\n",
    "\n",
    "    # Constraints: Each swimmer is assigned to exactly one stroke\n",
    "    for swimmer in selected_swimmers:\n",
    "        prob += pulp.lpSum(assignments[swimmer][stroke] for stroke in strokes) == 1\n",
    "\n",
    "    # Solve the problem\n",
    "    status = prob.solve()\n",
    "\n",
    "    # Check if this assignment is better\n",
    "    current_cost = pulp.value(prob.objective)\n",
    "    if current_cost < best_cost:\n",
    "        best_cost = current_cost\n",
    "        best_assignment = {swimmer: stroke for swimmer in selected_swimmers\n",
    "                           for stroke in strokes\n",
    "                           if pulp.value(assignments[swimmer][stroke]) == 1}\n",
    "\n",
    "print(f\"status: {prob.status}, {pulp.LpStatus[prob.status]}\")\n",
    "\n",
    "# Print the results\n",
    "if best_assignment:\n",
    "    print(\"Optimal assignment:\")\n",
    "    for swimmer, stroke in best_assignment.items():\n",
    "        print(f\"{swimmer} should swim {stroke}\")\n",
    "    print(f\"Total minimum time: {best_cost} seconds\")\n",
    "else:\n",
    "    print(\"No feasible solution found.\")"
   ]
  },
  {
   "cell_type": "code",
   "execution_count": null,
   "metadata": {},
   "outputs": [],
   "source": []
  },
  {
   "cell_type": "code",
   "execution_count": null,
   "metadata": {},
   "outputs": [],
   "source": []
  },
  {
   "cell_type": "code",
   "execution_count": null,
   "metadata": {},
   "outputs": [],
   "source": []
  },
  {
   "cell_type": "code",
   "execution_count": null,
   "metadata": {},
   "outputs": [],
   "source": []
  }
 ],
 "metadata": {
  "kernelspec": {
   "display_name": "base",
   "language": "python",
   "name": "python3"
  },
  "language_info": {
   "codemirror_mode": {
    "name": "ipython",
    "version": 3
   },
   "file_extension": ".py",
   "mimetype": "text/x-python",
   "name": "python",
   "nbconvert_exporter": "python",
   "pygments_lexer": "ipython3",
   "version": "3.9.13"
  }
 },
 "nbformat": 4,
 "nbformat_minor": 2
}
